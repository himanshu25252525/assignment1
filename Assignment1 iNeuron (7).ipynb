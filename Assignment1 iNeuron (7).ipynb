{
 "cells": [
  {
   "cell_type": "markdown",
   "id": "c5ca5392",
   "metadata": {},
   "source": [
    "\n",
    "# 1. In the below elements which of them are values or an expression? eg:- values can be integer or string and expressions will be mathematical operators.\n",
    "* \n",
    "'hello'\n",
    "-87.8\n",
    "- \n",
    "/ \n",
    "+\n",
    "6 \n",
    "\n",
    "Answer:\n",
    "values: 'hello', -87.8, 6\n",
    "expressions: *, -, /, +\n"
   ]
  },
  {
   "cell_type": "markdown",
   "id": "aea9fabd",
   "metadata": {},
   "source": [
    "# 2. What is the difference between string and variable?\n",
    "\n",
    "Answer:\n",
    "\n",
    "a)A string is a value representing text, String usually enclosed by \"\".\n",
    "\n",
    "b)All strings are variables, but not all variables are strings.\n",
    "\n",
    "c)A variable is a name that can refer to any value.\n",
    "\n",
    "d)A variable can hold a string, but a string can't hold a variable.\n",
    "\n",
    "e)Example:\n",
    "        String X = \"Sahil\"\n",
    "        here, X is Variable and type of value it stores is in string.\n",
    "                \n",
    "                "
   ]
  },
  {
   "cell_type": "markdown",
   "id": "e29b043b",
   "metadata": {},
   "source": [
    "# 3. Describe three different data types.\n",
    "\n",
    "Answer:\n",
    "1)String: String is a sequence of characters. This are represnted by either single or double quotes.\n",
    "    example: a= \"sahil is good in python\"\n",
    "        \n",
    "2)List: List is an ordered sequence of some data written by square brackets([]) and commas(,).\n",
    "    example: a= [1,2,'sahil',4]\n",
    "        This list contains both integers and strings.\n",
    "        \n",
    "3)Dictionary: Dictionary is not in ordered sequence of data of key-value pair form. They are written inside curly braces({}) in key:value.\n",
    "    example: a={a:\"name\", b:\"surname\", \"age\":20}"
   ]
  },
  {
   "cell_type": "markdown",
   "id": "60fb5aae",
   "metadata": {},
   "source": [
    "# 4. What is an expression made up of? What do all expressions do?\n",
    "\n",
    "Answer:\n",
    "An expression is a combination of operators and operands(values) that is combined to produce some other value."
   ]
  },
  {
   "cell_type": "markdown",
   "id": "051315fa",
   "metadata": {},
   "source": [
    "# 5. This assignment statements, like spam = 10. What is the difference between an expression and a statement?\n",
    "\n",
    "Answer:\n",
    "A expression is combined to get a single value, while statement can't.\n",
    "Statements represent an action or command e.g print statements, assignment statements."
   ]
  },
  {
   "cell_type": "markdown",
   "id": "85d41ca2",
   "metadata": {},
   "source": [
    "# 6. After running the following code, what does the variable bacon contain?\n",
    "\n",
    "bacon = 22\n",
    "\n",
    "bacon + 1\n",
    "\n"
   ]
  },
  {
   "cell_type": "code",
   "execution_count": 2,
   "id": "3ee40a77",
   "metadata": {},
   "outputs": [],
   "source": [
    "bacon = 22\n"
   ]
  },
  {
   "cell_type": "code",
   "execution_count": 3,
   "id": "3fbe1dda",
   "metadata": {},
   "outputs": [
    {
     "data": {
      "text/plain": [
       "23"
      ]
     },
     "execution_count": 3,
     "metadata": {},
     "output_type": "execute_result"
    }
   ],
   "source": [
    "bacon + 1"
   ]
  },
  {
   "cell_type": "markdown",
   "id": "4165b42f",
   "metadata": {},
   "source": [
    "The bacon variable is set to 22. So, we can not change the bacon value.\n",
    "The bacon + 1 expression does not reassign the value in bacon (that need an assignment statement like: bacon = bacon + 1)"
   ]
  },
  {
   "cell_type": "markdown",
   "id": "8ed38009",
   "metadata": {},
   "source": [
    "# 7. What should the values of the following two terms be?\n",
    "'spam' + 'spamspam'\n",
    "\n",
    "'spam' * 3\n"
   ]
  },
  {
   "cell_type": "code",
   "execution_count": 1,
   "id": "ee1c5b0a",
   "metadata": {},
   "outputs": [
    {
     "data": {
      "text/plain": [
       "'spamspamspam'"
      ]
     },
     "execution_count": 1,
     "metadata": {},
     "output_type": "execute_result"
    }
   ],
   "source": [
    "'spam' + 'spamspam'"
   ]
  },
  {
   "cell_type": "code",
   "execution_count": 2,
   "id": "4305a21e",
   "metadata": {},
   "outputs": [
    {
     "data": {
      "text/plain": [
       "'spamspamspam'"
      ]
     },
     "execution_count": 2,
     "metadata": {},
     "output_type": "execute_result"
    }
   ],
   "source": [
    "'spam' * 3"
   ]
  },
  {
   "cell_type": "markdown",
   "id": "076db74e",
   "metadata": {},
   "source": [
    "Both expressions will give the same output 'spamspamspam'."
   ]
  },
  {
   "cell_type": "markdown",
   "id": "72021886",
   "metadata": {},
   "source": [
    "# 8. Why is eggs a valid variable name while 100 is invalid?\n"
   ]
  },
  {
   "cell_type": "markdown",
   "id": "228b1c69",
   "metadata": {},
   "source": [
    "Answer:\n",
    "Variable can never be start with number, for example: 100eggs, 100, 100e, etc."
   ]
  },
  {
   "cell_type": "markdown",
   "id": "5603f266",
   "metadata": {},
   "source": [
    "# 9. What three functions can be used to get the integer, floating-point number, or string version of a value?\n"
   ]
  },
  {
   "cell_type": "markdown",
   "id": "1cdf6765",
   "metadata": {},
   "source": [
    "Answer:\n",
    "For getting integer we use int() function\n",
    "For getting floating-point we use float() function\n",
    "For getting string we use str() function\n"
   ]
  },
  {
   "cell_type": "markdown",
   "id": "79c5db63",
   "metadata": {},
   "source": [
    "# 10. Why does this expression cause an error? How can you fix it?\n",
    "'I have eaten ' + 99 + ' burritos.'\n"
   ]
  },
  {
   "cell_type": "markdown",
   "id": "0608a127",
   "metadata": {},
   "source": [
    "Answer:\n",
    "We can not add integer into string, if we want to concatenate then we have to convert integer to string means typecasting.\n",
    "'i have eaten' + str(99) + 'burritos'"
   ]
  }
 ],
 "metadata": {
  "kernelspec": {
   "display_name": "Python 3 (ipykernel)",
   "language": "python",
   "name": "python3"
  },
  "language_info": {
   "codemirror_mode": {
    "name": "ipython",
    "version": 3
   },
   "file_extension": ".py",
   "mimetype": "text/x-python",
   "name": "python",
   "nbconvert_exporter": "python",
   "pygments_lexer": "ipython3",
   "version": "3.11.2"
  }
 },
 "nbformat": 4,
 "nbformat_minor": 5
}
